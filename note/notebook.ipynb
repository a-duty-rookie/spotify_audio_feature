{
 "cells": [
  {
   "cell_type": "code",
   "execution_count": 1,
   "id": "a71b7b3e",
   "metadata": {},
   "outputs": [],
   "source": [
    "from utils.lyric_collect import get_whole_song_lyrics\n",
    "import requests\n",
    "from bs4 import BeautifulSoup\n",
    "import pandas as pd\n",
    "from pathlib import Path\n",
    "import re\n",
    "from urllib.parse import urljoin\n",
    "import neologdn\n",
    "import pickle\n",
    "from datetime import datetime as dt\n"
   ]
  },
  {
   "cell_type": "code",
   "execution_count": 2,
   "id": "1ecfbf57",
   "metadata": {},
   "outputs": [],
   "source": [
    "ROOT = Path(\"./\").resolve().parent\n",
    "SECRETS = ROOT / \".secrets\"\n",
    "DATA = ROOT / \"data\"\n",
    "DATA.mkdir(exist_ok=True,parents=True)"
   ]
  },
  {
   "cell_type": "code",
   "execution_count": 3,
   "id": "48d24716",
   "metadata": {},
   "outputs": [],
   "source": [
    "res = requests.get(\"https://www.uta-net.com/ranking/artist/\")\n",
    "soup = BeautifulSoup(res.text, 'html.parser')"
   ]
  },
  {
   "cell_type": "code",
   "execution_count": 4,
   "id": "0174235c",
   "metadata": {},
   "outputs": [],
   "source": [
    "ranking = pd.DataFrame()\n",
    "container = soup.select_one(\"#rank-total-tab\")\n",
    "for i,li in enumerate(container.select(\"ol.ranking-ol-table li\")):\n",
    "    rank = li.find(\"div\", class_=\"text-center\").get_text(strip=True)\n",
    "    name = li.find_all(\"div\")[1].get_text(strip=True)\n",
    "    href = li.find_parent(\"a\")[\"href\"]  # アーティストページURL\n",
    "    id = href.rstrip(\"/\").split(\"/\")[-1]\n",
    "    ranking.loc[i,\"rank\"] = rank\n",
    "    ranking.loc[i,\"artist_id\"] = id\n",
    "    ranking.loc[i,\"name\"] = name"
   ]
  },
  {
   "cell_type": "code",
   "execution_count": null,
   "id": "601c5362",
   "metadata": {},
   "outputs": [
    {
     "name": "stdout",
     "output_type": "stream",
     "text": [
      "back numberの歌詞一覧リスト125曲を取得します\n",
      "全125曲完了                                                                                                             \n",
      "嵐の歌詞一覧リスト361曲を取得します\n",
      "全400曲完了                                                                                                             \n",
      "RADWIMPSの歌詞一覧リスト186曲を取得します\n",
      "全186曲中 13曲目 取得中 05410-(ん)                                                                                           \r"
     ]
    }
   ],
   "source": [
    "LYRICS = DATA / \"lyrics\"\n",
    "LYRICS.mkdir(exist_ok=True,parents=True)\n",
    "execution_date = dt.today().strftime(\"%Y%m%d\")\n",
    "sample_n = 50\n",
    "mode = 4\n",
    "\n",
    "for row in ranking[[\"artist_id\",\"name\"]].iterrows():\n",
    "    artist_id = row[1][\"artist_id\"]\n",
    "    artist_name = row[1][\"name\"]\n",
    "    if artist_id == \"4002\":\n",
    "        continue\n",
    "    else:\n",
    "        data = get_whole_song_lyrics(artist_id, \"artist\", mode, sample_n,1)\n",
    "        with open(LYRICS / f\"{artist_name}_{execution_date}_mode{mode}_top{sample_n}.pkl\", mode='wb') as f:\n",
    "            pickle.dump(data, f)"
   ]
  },
  {
   "cell_type": "code",
   "execution_count": null,
   "id": "42843b84",
   "metadata": {},
   "outputs": [],
   "source": [
    "artist_ids = [\n",
    "    \"18526\" # ミセス\n",
    "    \"684\" # ミスチル\n",
    "    \"1475\" # スピッツ\n",
    "]"
   ]
  },
  {
   "cell_type": "code",
   "execution_count": null,
   "id": "1f203241",
   "metadata": {},
   "outputs": [],
   "source": [
    "get_whole_song_lyrics()"
   ]
  }
 ],
 "metadata": {
  "kernelspec": {
   "display_name": "spotify-audio-feature-py3.11 (3.11.13)",
   "language": "python",
   "name": "python3"
  },
  "language_info": {
   "codemirror_mode": {
    "name": "ipython",
    "version": 3
   },
   "file_extension": ".py",
   "mimetype": "text/x-python",
   "name": "python",
   "nbconvert_exporter": "python",
   "pygments_lexer": "ipython3",
   "version": "3.11.13"
  }
 },
 "nbformat": 4,
 "nbformat_minor": 5
}
